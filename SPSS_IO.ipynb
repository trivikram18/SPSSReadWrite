{
 "cells": [
  {
   "cell_type": "code",
   "execution_count": 74,
   "metadata": {},
   "outputs": [],
   "source": [
    "import os\n",
    "import pandas as pd\n",
    "import numpy as np\n",
    "import savReaderWriter as s"
   ]
  },
  {
   "cell_type": "code",
   "execution_count": 75,
   "metadata": {},
   "outputs": [],
   "source": [
    "reader = s.SavReader('customer_dbase.sav', ioUtf8=True)"
   ]
  },
  {
   "cell_type": "code",
   "execution_count": 76,
   "metadata": {},
   "outputs": [],
   "source": [
    "all_data = reader.all()\n",
    "Var_Names = reader.varNames\n",
    "Value_Labels = reader.valueLabels\n",
    "Variable_Labels = reader.varLabels\n",
    "Measure_Levels = reader.measureLevels\n",
    "Variable_Formats = reader.formats\n",
    "Missing_Values = reader.missingValues"
   ]
  },
  {
   "cell_type": "code",
   "execution_count": 77,
   "metadata": {},
   "outputs": [],
   "source": [
    "reader.close()"
   ]
  },
  {
   "cell_type": "code",
   "execution_count": 78,
   "metadata": {},
   "outputs": [
    {
     "name": "stdout",
     "output_type": "stream",
     "text": [
      "<class 'pandas.core.frame.DataFrame'>\n",
      "RangeIndex: 5000 entries, 0 to 4999\n",
      "Columns: 132 entries, custid to response_03\n",
      "dtypes: float64(130), object(2)\n",
      "memory usage: 5.0+ MB\n",
      "None\n",
      "            custid  region  townsize  gender   age  agecat birthmonth    ed  \\\n",
      "0  3964-QJWTRG-NPN     1.0       2.0     1.0  20.0     2.0  September  15.0   \n",
      "1  0648-AIPJSP-UVM     5.0       5.0     0.0  22.0     2.0        May  17.0   \n",
      "2  5195-TLUDJE-HVO     3.0       4.0     1.0  67.0     6.0       June  14.0   \n",
      "3  4459-VLPQUH-3OL     4.0       3.0     0.0  23.0     2.0        May  16.0   \n",
      "4  8158-SMTQFB-CNO     2.0       2.0     0.0  26.0     3.0       July  16.0   \n",
      "\n",
      "   edcat  jobcat  ...  owncd  ownpda  ownpc  ownipod  owngame  ownfax  news  \\\n",
      "0    3.0     1.0  ...    0.0     0.0    0.0      1.0      1.0     0.0   0.0   \n",
      "1    4.0     2.0  ...    1.0     1.0    1.0      1.0      1.0     1.0   1.0   \n",
      "2    2.0     2.0  ...    1.0     0.0    0.0      0.0      0.0     0.0   1.0   \n",
      "3    3.0     2.0  ...    1.0     0.0    1.0      1.0      1.0     0.0   1.0   \n",
      "4    3.0     2.0  ...    1.0     0.0    1.0      0.0      1.0     0.0   0.0   \n",
      "\n",
      "   response_01  response_02  response_03  \n",
      "0          0.0          1.0          0.0  \n",
      "1          0.0          0.0          0.0  \n",
      "2          0.0          0.0          0.0  \n",
      "3          1.0          0.0          0.0  \n",
      "4          0.0          1.0          0.0  \n",
      "\n",
      "[5 rows x 132 columns]\n",
      "Index(['custid', 'region', 'townsize', 'gender', 'age', 'agecat', 'birthmonth',\n",
      "       'ed', 'edcat', 'jobcat',\n",
      "       ...\n",
      "       'owncd', 'ownpda', 'ownpc', 'ownipod', 'owngame', 'ownfax', 'news',\n",
      "       'response_01', 'response_02', 'response_03'],\n",
      "      dtype='object', length=132)\n"
     ]
    }
   ],
   "source": [
    "df = pd.DataFrame(data=all_data, columns=Var_Names)\n",
    "print(df.info())\n",
    "print(df.head())\n",
    "print(df.columns)"
   ]
  },
  {
   "cell_type": "code",
   "execution_count": 79,
   "metadata": {},
   "outputs": [],
   "source": [
    "df.to_csv(os.path.join('Customer_dbase_ExportFromPandas.csv'), index=False)"
   ]
  },
  {
   "cell_type": "code",
   "execution_count": 80,
   "metadata": {},
   "outputs": [
    {
     "name": "stdout",
     "output_type": "stream",
     "text": [
      "custid       object\n",
      "region      float64\n",
      "townsize    float64\n",
      "gender      float64\n",
      "age         float64\n",
      "dtype: object\n"
     ]
    }
   ],
   "source": [
    "print(df.dtypes[0:5])"
   ]
  },
  {
   "cell_type": "code",
   "execution_count": 81,
   "metadata": {},
   "outputs": [
    {
     "data": {
      "text/plain": [
       "{1.0: 'Zone 1', 2.0: 'Zone 2', 3.0: 'Zone 3', 4.0: 'Zone 4', 5.0: 'Zone 5'}"
      ]
     },
     "execution_count": 81,
     "metadata": {},
     "output_type": "execute_result"
    }
   ],
   "source": [
    "Value_Labels['region']"
   ]
  },
  {
   "cell_type": "code",
   "execution_count": 82,
   "metadata": {},
   "outputs": [],
   "source": [
    "def PrintSPSSVariableInfo(df, varName):\n",
    "    print(f\"Variable info for '{varName}':\")\n",
    "    print(\"Variable Datatype: \", df[varName].dtype)\n",
    "    print(\"Variable Label: \", Variable_Labels[varName])\n",
    "    print(\"Value Label: \", Value_Labels[varName])\n",
    "    print(\"Measure Level: \", Measure_Levels[varName])\n",
    "    print(\"Variable Format: \", Variable_Formats[varName])\n",
    "    print(\"Missing Values: \", Missing_Values[varName])"
   ]
  },
  {
   "cell_type": "code",
   "execution_count": 83,
   "metadata": {},
   "outputs": [
    {
     "name": "stdout",
     "output_type": "stream",
     "text": [
      "Variable info for 'region':\n",
      "Variable Datatype:  float64\n",
      "Variable Label:  Geographic indicator\n",
      "Value Label:  {1.0: 'Zone 1', 2.0: 'Zone 2', 3.0: 'Zone 3', 4.0: 'Zone 4', 5.0: 'Zone 5'}\n",
      "Measure Level:  nominal\n",
      "Variable Format:  F4\n",
      "Missing Values:  {}\n"
     ]
    }
   ],
   "source": [
    "PrintSPSSVariableInfo(df, 'region')"
   ]
  },
  {
   "cell_type": "code",
   "execution_count": null,
   "metadata": {},
   "outputs": [],
   "source": []
  }
 ],
 "metadata": {
  "kernelspec": {
   "display_name": "Python 3",
   "language": "python",
   "name": "python3"
  },
  "language_info": {
   "codemirror_mode": {
    "name": "ipython",
    "version": 3
   },
   "file_extension": ".py",
   "mimetype": "text/x-python",
   "name": "python",
   "nbconvert_exporter": "python",
   "pygments_lexer": "ipython3",
   "version": "3.7.3"
  }
 },
 "nbformat": 4,
 "nbformat_minor": 2
}
